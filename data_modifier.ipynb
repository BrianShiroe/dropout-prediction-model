{
 "cells": [
  {
   "cell_type": "code",
   "execution_count": 1,
   "metadata": {},
   "outputs": [
    {
     "name": "stdout",
     "output_type": "stream",
     "text": [
      "Requirement already satisfied: numpy in c:\\users\\brian\\appdata\\local\\programs\\python\\python312\\lib\\site-packages (1.26.4)\n",
      "Requirement already satisfied: pandas in c:\\users\\brian\\appdata\\local\\programs\\python\\python312\\lib\\site-packages (2.2.3)\n",
      "Requirement already satisfied: python-dateutil>=2.8.2 in c:\\users\\brian\\appdata\\local\\programs\\python\\python312\\lib\\site-packages (from pandas) (2.9.0.post0)\n",
      "Requirement already satisfied: pytz>=2020.1 in c:\\users\\brian\\appdata\\local\\programs\\python\\python312\\lib\\site-packages (from pandas) (2024.2)\n",
      "Requirement already satisfied: tzdata>=2022.7 in c:\\users\\brian\\appdata\\local\\programs\\python\\python312\\lib\\site-packages (from pandas) (2024.2)\n",
      "Requirement already satisfied: six>=1.5 in c:\\users\\brian\\appdata\\local\\programs\\python\\python312\\lib\\site-packages (from python-dateutil>=2.8.2->pandas) (1.16.0)\n"
     ]
    },
    {
     "name": "stderr",
     "output_type": "stream",
     "text": [
      "\n",
      "[notice] A new release of pip is available: 24.2 -> 24.3.1\n",
      "[notice] To update, run: python.exe -m pip install --upgrade pip\n"
     ]
    }
   ],
   "source": [
    "# Install necessary packages\n",
    "!pip install numpy pandas"
   ]
  },
  {
   "cell_type": "code",
   "execution_count": 2,
   "metadata": {},
   "outputs": [],
   "source": [
    "import numpy as np\n",
    "import pandas as pd"
   ]
  },
  {
   "cell_type": "code",
   "execution_count": 3,
   "metadata": {},
   "outputs": [],
   "source": [
    "# Path to the data file\n",
    "data_path = \"dataset/data.csv\"\n",
    "\n",
    "# Load data from CSV file with ';' delimiter\n",
    "data = pd.read_csv(data_path, delimiter=';')"
   ]
  },
  {
   "cell_type": "code",
   "execution_count": 4,
   "metadata": {},
   "outputs": [],
   "source": [
    "# List of the columns you want to keep\n",
    "columns_to_keep = [\n",
    "    \"Application mode\", \n",
    "    \"Application order\", \n",
    "    \"Course\", \n",
    "    \"Previous qualification\", \n",
    "    \"Previous qualification (grade)\", \n",
    "    \"Mother's qualification\", \n",
    "    \"Father's qualification\", \n",
    "    \"Mother's occupation\", \n",
    "    \"Father's occupation\", \n",
    "    \"Admission grade\", \n",
    "    \"Debtor\", \n",
    "    \"Tuition fees up to date\", \n",
    "    \"Scholarship holder\", \n",
    "    \"Age at enrollment\", \n",
    "    \"Curricular units 1st sem (enrolled)\", \n",
    "    \"Curricular units 1st sem (evaluations)\", \n",
    "    \"Curricular units 1st sem (approved)\", \n",
    "    \"Curricular units 1st sem (grade)\", \n",
    "    \"Curricular units 2nd sem (enrolled)\", \n",
    "    \"Curricular units 2nd sem (evaluations)\", \n",
    "    \"Curricular units 2nd sem (approved)\", \n",
    "    \"Curricular units 2nd sem (grade)\", \n",
    "    \"Unemployment rate\", \n",
    "    \"Inflation rate\", \n",
    "    \"GDP\", \n",
    "    \"Target\"\n",
    "]\n",
    "\n",
    "# Filter the dataset to keep only the desired columns\n",
    "data_filtered = data[columns_to_keep]"
   ]
  },
  {
   "cell_type": "code",
   "execution_count": 5,
   "metadata": {},
   "outputs": [
    {
     "name": "stdout",
     "output_type": "stream",
     "text": [
      "Modified data saved to dataset/test_data.csv\n"
     ]
    }
   ],
   "source": [
    "# Save the modified data to a new CSV file\n",
    "output_path = \"dataset/test_data.csv\"\n",
    "data_filtered.to_csv(output_path, index=False)\n",
    "\n",
    "print(f\"Modified data saved to {output_path}\")"
   ]
  }
 ],
 "metadata": {
  "kernelspec": {
   "display_name": "Python 3",
   "language": "python",
   "name": "python3"
  },
  "language_info": {
   "codemirror_mode": {
    "name": "ipython",
    "version": 3
   },
   "file_extension": ".py",
   "mimetype": "text/x-python",
   "name": "python",
   "nbconvert_exporter": "python",
   "pygments_lexer": "ipython3",
   "version": "3.12.6"
  }
 },
 "nbformat": 4,
 "nbformat_minor": 2
}
